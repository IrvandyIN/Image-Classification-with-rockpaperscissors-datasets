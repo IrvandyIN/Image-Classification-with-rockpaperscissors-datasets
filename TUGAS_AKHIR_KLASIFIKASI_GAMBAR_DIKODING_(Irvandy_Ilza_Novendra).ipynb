{
  "nbformat": 4,
  "nbformat_minor": 0,
  "metadata": {
    "colab": {
      "name": "TUGAS_AKHIR_KLASIFIKASI_GAMBAR_DIKODING_(Irvandy_Ilza_Novendra).ipynb",
      "provenance": [],
      "collapsed_sections": []
    },
    "kernelspec": {
      "name": "python3",
      "display_name": "Python 3"
    },
    "language_info": {
      "name": "python"
    }
  },
  "cells": [
    {
      "cell_type": "markdown",
      "metadata": {
        "id": "hVOxzjVtP02X"
      },
      "source": [
        "Perkenalkan nama saya Irvandy Ilza Novendra(rendrairvandy@gmail.com)\n",
        "\n",
        "https://www.dicoding.com/users/irvandyilzan\n",
        "\n",
        "Berikut adalah Proyek Akhir : Klasifikasi Gambar yang saya susun untuk lulus dari kelas \"Belajar Machine Learning untuk Pemula\" dari Dicoding Academy."
      ]
    },
    {
      "cell_type": "markdown",
      "metadata": {
        "id": "7YV7D4HUP3_G"
      },
      "source": [
        "**Akses Dataset**"
      ]
    },
    {
      "cell_type": "markdown",
      "metadata": {
        "id": "4q_BgxD6P7hn"
      },
      "source": [
        "Unduh file yang akan digunakan"
      ]
    },
    {
      "cell_type": "code",
      "metadata": {
        "colab": {
          "base_uri": "https://localhost:8080/"
        },
        "id": "MNbqyS_AP1jw",
        "outputId": "cebd3843-9f6f-401e-c854-faf3165c2ddd"
      },
      "source": [
        "!wget --no-check-certificate \\\n",
        "  https://dicodingacademy.blob.core.windows.net/picodiploma/ml_pemula_academy/rockpaperscissors.zip \\\n",
        "  -O /tmp/rockpaperscissors.zip"
      ],
      "execution_count": 1,
      "outputs": [
        {
          "output_type": "stream",
          "text": [
            "--2021-07-25 14:20:58--  https://dicodingacademy.blob.core.windows.net/picodiploma/ml_pemula_academy/rockpaperscissors.zip\n",
            "Resolving dicodingacademy.blob.core.windows.net (dicodingacademy.blob.core.windows.net)... 52.239.197.36\n",
            "Connecting to dicodingacademy.blob.core.windows.net (dicodingacademy.blob.core.windows.net)|52.239.197.36|:443... connected.\n",
            "HTTP request sent, awaiting response... 200 OK\n",
            "Length: 322873683 (308M) [application/zip]\n",
            "Saving to: ‘/tmp/rockpaperscissors.zip’\n",
            "\n",
            "/tmp/rockpapersciss 100%[===================>] 307.92M  4.68MB/s    in 47s     \n",
            "\n",
            "2021-07-25 14:21:46 (6.55 MB/s) - ‘/tmp/rockpaperscissors.zip’ saved [322873683/322873683]\n",
            "\n"
          ],
          "name": "stdout"
        }
      ]
    },
    {
      "cell_type": "markdown",
      "metadata": {
        "id": "d9OuPYUsQPrv"
      },
      "source": [
        "Ekstrak File ZIP"
      ]
    },
    {
      "cell_type": "code",
      "metadata": {
        "id": "o5OhnEqMQSGA"
      },
      "source": [
        "import zipfile                                                                   \n",
        "\n",
        "local_zip = '/tmp/rockpaperscissors.zip'                                       \n",
        "zip_ref = zipfile.ZipFile(local_zip, 'r')                                      \n",
        "zip_ref.extractall('/tmp/')                                                     \n",
        "zip_ref.close() "
      ],
      "execution_count": 2,
      "outputs": []
    },
    {
      "cell_type": "markdown",
      "metadata": {
        "id": "DB_IjW_9emFe"
      },
      "source": [
        "cek bentuk file rickpaperscissor.zip"
      ]
    },
    {
      "cell_type": "code",
      "metadata": {
        "colab": {
          "base_uri": "https://localhost:8080/"
        },
        "id": "53Uxw-nlPy8w",
        "outputId": "16c1242a-7d9b-4d0b-b484-b256e31b0a9f"
      },
      "source": [
        "!sudo apt install tree"
      ],
      "execution_count": 3,
      "outputs": [
        {
          "output_type": "stream",
          "text": [
            "Reading package lists... Done\n",
            "Building dependency tree       \n",
            "Reading state information... Done\n",
            "The following NEW packages will be installed:\n",
            "  tree\n",
            "0 upgraded, 1 newly installed, 0 to remove and 40 not upgraded.\n",
            "Need to get 40.7 kB of archives.\n",
            "After this operation, 105 kB of additional disk space will be used.\n",
            "Get:1 http://archive.ubuntu.com/ubuntu bionic/universe amd64 tree amd64 1.7.0-5 [40.7 kB]\n",
            "Fetched 40.7 kB in 0s (862 kB/s)\n",
            "debconf: unable to initialize frontend: Dialog\n",
            "debconf: (No usable dialog-like program is installed, so the dialog based frontend cannot be used. at /usr/share/perl5/Debconf/FrontEnd/Dialog.pm line 76, <> line 1.)\n",
            "debconf: falling back to frontend: Readline\n",
            "debconf: unable to initialize frontend: Readline\n",
            "debconf: (This frontend requires a controlling tty.)\n",
            "debconf: falling back to frontend: Teletype\n",
            "dpkg-preconfigure: unable to re-open stdin: \n",
            "Selecting previously unselected package tree.\n",
            "(Reading database ... 160837 files and directories currently installed.)\n",
            "Preparing to unpack .../tree_1.7.0-5_amd64.deb ...\n",
            "Unpacking tree (1.7.0-5) ...\n",
            "Setting up tree (1.7.0-5) ...\n",
            "Processing triggers for man-db (2.8.3-2ubuntu0.1) ...\n"
          ],
          "name": "stdout"
        }
      ]
    },
    {
      "cell_type": "markdown",
      "metadata": {
        "id": "jwQ_a2mVFfrv"
      },
      "source": [
        "Instal library split_folder"
      ]
    },
    {
      "cell_type": "code",
      "metadata": {
        "colab": {
          "base_uri": "https://localhost:8080/"
        },
        "id": "AqAwCThlPXl3",
        "outputId": "27cf8b20-1557-434a-f549-f7131364403e"
      },
      "source": [
        "!pip install split_folders"
      ],
      "execution_count": 4,
      "outputs": [
        {
          "output_type": "stream",
          "text": [
            "Collecting split_folders\n",
            "  Downloading split_folders-0.4.3-py3-none-any.whl (7.4 kB)\n",
            "Installing collected packages: split-folders\n",
            "Successfully installed split-folders-0.4.3\n"
          ],
          "name": "stdout"
        }
      ]
    },
    {
      "cell_type": "markdown",
      "metadata": {
        "id": "T-593t_re_UU"
      },
      "source": [
        "Buat masing-masing direktori untuk setiap jenis gambar"
      ]
    },
    {
      "cell_type": "code",
      "metadata": {
        "colab": {
          "base_uri": "https://localhost:8080/"
        },
        "id": "Jhcoaa_dNKJh",
        "outputId": "8c099747-019f-40e3-caef-610c36cfa434"
      },
      "source": [
        "import os\n",
        "import shutil\n",
        "import splitfolders\n",
        "\n",
        "base_dir = '/tmp/rockpaperscissors/rps-cv-images/' #direktori utama\n",
        "if ('data_model' in os.listdir(base_dir)):\n",
        "  shutil.rmtree(os.path.join(base_dir, 'data_model'))\n",
        "\n",
        "splitfolders.ratio('/tmp/rockpaperscissors/rps-cv-images/',\n",
        "                    output ='/tmp/rockpaperscissors/rps-cv-images/data_model',\n",
        "                    seed=None, ratio=(.6,.4))\n",
        "\n",
        "print('\\n')\n",
        "# BLOK ROCK\n",
        "rock_dir = os.path.join('/tmp/rockpaperscissors/rps-cv-images/rock') #jumlah gambar rock\n",
        "train_rock_dir = os.path.join('/tmp/rockpaperscissors/rps-cv-images/data_model/train/rock') #jumlah gambar train rock\n",
        "val_rock_dir = os.path.join('/tmp/rockpaperscissors/rps-cv-images/data_model/val/rock') #jumlah gambar validation rock\n",
        "\n",
        "# BLOK PAPER\n",
        "paper_dir = os.path.join('/tmp/rockpaperscissors/rps-cv-images/paper') #jumlah gambar paper\n",
        "train_paper_dir = os.path.join('/tmp/rockpaperscissors/rps-cv-images/data_model/train/paper') #jumlah gambar train paper\n",
        "val_paper_dir = os.path.join('/tmp/rockpaperscissors/rps-cv-images/data_model/val/paper') #jumlah gambar validation paper\n",
        "\n",
        "# BLOK SCISSORS\n",
        "scissors_dir = os.path.join('/tmp/rockpaperscissors/rps-cv-images/scissors') #jumlah gambar scissor\n",
        "train_scissors_dir = os.path.join('/tmp/rockpaperscissors/rps-cv-images/data_model/train/scissors') #jumlah gambar train scissor\n",
        "val_scissors_dir = os.path.join('/tmp/rockpaperscissors/rps-cv-images/data_model/val/scissors') #jumlah gambar validation scissor\n",
        "\n",
        "\n",
        "print('\\nJumlah Gambar Rock:', len(os.listdir(rock_dir)))\n",
        "print('Training:', len(os.listdir(train_rock_dir)))\n",
        "print('Validasi:', len(os.listdir(val_rock_dir)))\n",
        "\n",
        "print('\\n')\n",
        "\n",
        "print('Jumlah Gambar Paper:', len(os.listdir(paper_dir)))\n",
        "print('Training:', len(os.listdir(train_paper_dir)))\n",
        "print('Validasi:', len(os.listdir(val_paper_dir)))\n",
        "\n",
        "print('\\n')\n",
        "print('Jumlah Gambar Scissors:', len(os.listdir(scissors_dir)))\n",
        "print('Training:', len(os.listdir(train_scissors_dir)))\n",
        "print('Validasi:', len(os.listdir(val_scissors_dir)))\n",
        "\n",
        "print('\\n---------------------------')\n",
        "print('Total Gambar:', len(os.listdir(rock_dir))+len(os.listdir(paper_dir))+ len(os.listdir(scissors_dir)))"
      ],
      "execution_count": 5,
      "outputs": [
        {
          "output_type": "stream",
          "text": [
            "Copying files: 2188 files [00:00, 4576.87 files/s]\n"
          ],
          "name": "stderr"
        },
        {
          "output_type": "stream",
          "text": [
            "\n",
            "\n",
            "\n",
            "Jumlah Gambar Rock: 726\n",
            "Training: 435\n",
            "Validasi: 291\n",
            "\n",
            "\n",
            "Jumlah Gambar Paper: 712\n",
            "Training: 427\n",
            "Validasi: 285\n",
            "\n",
            "\n",
            "Jumlah Gambar Scissors: 750\n",
            "Training: 450\n",
            "Validasi: 300\n",
            "\n",
            "---------------------------\n",
            "Total Gambar: 2188\n"
          ],
          "name": "stdout"
        }
      ]
    },
    {
      "cell_type": "markdown",
      "metadata": {
        "id": "JG3vBngefmLc"
      },
      "source": [
        "Lihat bentuk data hasil split folder sebelumnya"
      ]
    },
    {
      "cell_type": "code",
      "metadata": {
        "colab": {
          "base_uri": "https://localhost:8080/"
        },
        "id": "UFcFLhymXtEy",
        "outputId": "3a575d6f-041a-4454-9785-bcfd3c4ae053"
      },
      "source": [
        "!tree -d /tmp/rockpaperscissors/rps-cv-images/data_model"
      ],
      "execution_count": 6,
      "outputs": [
        {
          "output_type": "stream",
          "text": [
            "/tmp/rockpaperscissors/rps-cv-images/data_model\n",
            "├── train\n",
            "│   ├── paper\n",
            "│   ├── rock\n",
            "│   └── scissors\n",
            "└── val\n",
            "    ├── paper\n",
            "    ├── rock\n",
            "    └── scissors\n",
            "\n",
            "8 directories\n"
          ],
          "name": "stdout"
        }
      ]
    },
    {
      "cell_type": "markdown",
      "metadata": {
        "id": "pnvi-ehcfz5V"
      },
      "source": [
        " **Augmentasi Gambar**"
      ]
    },
    {
      "cell_type": "code",
      "metadata": {
        "id": "VMvZjh1HYFHk"
      },
      "source": [
        "import tensorflow as tf\n",
        "import keras_preprocessing\n",
        "from keras_preprocessing import image\n",
        "from keras_preprocessing.image import ImageDataGenerator\n",
        "\n",
        "training_dir = \"/tmp/rockpaperscissors/rps-cv-images/data_model/train\"\n",
        "training_datagen = ImageDataGenerator(\n",
        "      rescale = 1./255,\n",
        "\t    rotation_range=30,\n",
        "      width_shift_range=0.2,\n",
        "      height_shift_range=0.2,\n",
        "      shear_range=0.2,\n",
        "      zoom_range=0.2,\n",
        "      horizontal_flip=True,\n",
        "      fill_mode='nearest')\n",
        "\n",
        "validation_dir = \"/tmp/rockpaperscissors/rps-cv-images/data_model/val\"\n",
        "validation_datagen = ImageDataGenerator(rescale = 1./255)\n"
      ],
      "execution_count": 39,
      "outputs": []
    },
    {
      "cell_type": "markdown",
      "metadata": {
        "id": "Cvl5g6v50LJ4"
      },
      "source": [
        "**Image Generator**"
      ]
    },
    {
      "cell_type": "code",
      "metadata": {
        "colab": {
          "base_uri": "https://localhost:8080/"
        },
        "id": "5o16mg-xYX3L",
        "outputId": "4406fbc5-4d22-42c3-d67b-92b7a34548bb"
      },
      "source": [
        "train_generator = training_datagen.flow_from_directory(\n",
        "\ttraining_dir,\n",
        "\ttarget_size=(150,150),\n",
        "\tclass_mode='categorical',\n",
        "  batch_size=8\n",
        ")\n",
        "\n",
        "validation_generator = validation_datagen.flow_from_directory(\n",
        "\tvalidation_dir,\n",
        "\ttarget_size=(150,150),\n",
        "\tclass_mode='categorical',\n",
        "  batch_size=8\n",
        ")"
      ],
      "execution_count": 40,
      "outputs": [
        {
          "output_type": "stream",
          "text": [
            "Found 1312 images belonging to 3 classes.\n",
            "Found 876 images belonging to 3 classes.\n"
          ],
          "name": "stdout"
        }
      ]
    },
    {
      "cell_type": "markdown",
      "metadata": {
        "id": "8gPO2AKZTZff"
      },
      "source": [
        "**Membangun Model Jaringan Syaraf Tiruan**"
      ]
    },
    {
      "cell_type": "markdown",
      "metadata": {
        "id": "jBT6z9bOTc-m"
      },
      "source": [
        "Model yang digunakan adalah Model Sequential"
      ]
    },
    {
      "cell_type": "code",
      "metadata": {
        "colab": {
          "base_uri": "https://localhost:8080/"
        },
        "id": "RUJyRvaFYxSE",
        "outputId": "523c09bd-a7a1-4cb1-8ee6-29131901991b"
      },
      "source": [
        "model = tf.keras.models.Sequential([\n",
        "    # Konvolusi Pertama\n",
        "    tf.keras.layers.Conv2D(32, (3,3), activation='relu', input_shape=(150, 150, 3)),\n",
        "    tf.keras.layers.MaxPooling2D(2, 2),\n",
        "    # Konvolusi Kedua\n",
        "    tf.keras.layers.Conv2D(64, (3,3), activation='relu'),\n",
        "    tf.keras.layers.MaxPooling2D(2,2),\n",
        "    # Konvolusi Ketiga\n",
        "    tf.keras.layers.Conv2D(128, (3,3), activation='relu'),\n",
        "    tf.keras.layers.MaxPooling2D(2,2),\n",
        "    # Konvolusi Keempat\n",
        "    tf.keras.layers.Conv2D(128, (3,3), activation='relu'),\n",
        "    tf.keras.layers.MaxPooling2D(2,2),\n",
        "    # Jadikan hasil yang sudah diperoleh dalam sebuah DNN\n",
        "    tf.keras.layers.Flatten(),\n",
        "    tf.keras.layers.Dropout(0.5),\n",
        "    # Hidden Layer\n",
        "    tf.keras.layers.Dense(512, activation='relu'),\n",
        "    tf.keras.layers.Dense(3, activation='softmax')\n",
        "])\n",
        "\n",
        "model.summary()"
      ],
      "execution_count": 41,
      "outputs": [
        {
          "output_type": "stream",
          "text": [
            "Model: \"sequential_5\"\n",
            "_________________________________________________________________\n",
            "Layer (type)                 Output Shape              Param #   \n",
            "=================================================================\n",
            "conv2d_20 (Conv2D)           (None, 148, 148, 32)      896       \n",
            "_________________________________________________________________\n",
            "max_pooling2d_20 (MaxPooling (None, 74, 74, 32)        0         \n",
            "_________________________________________________________________\n",
            "conv2d_21 (Conv2D)           (None, 72, 72, 64)        18496     \n",
            "_________________________________________________________________\n",
            "max_pooling2d_21 (MaxPooling (None, 36, 36, 64)        0         \n",
            "_________________________________________________________________\n",
            "conv2d_22 (Conv2D)           (None, 34, 34, 128)       73856     \n",
            "_________________________________________________________________\n",
            "max_pooling2d_22 (MaxPooling (None, 17, 17, 128)       0         \n",
            "_________________________________________________________________\n",
            "conv2d_23 (Conv2D)           (None, 15, 15, 128)       147584    \n",
            "_________________________________________________________________\n",
            "max_pooling2d_23 (MaxPooling (None, 7, 7, 128)         0         \n",
            "_________________________________________________________________\n",
            "flatten_5 (Flatten)          (None, 6272)              0         \n",
            "_________________________________________________________________\n",
            "dropout_5 (Dropout)          (None, 6272)              0         \n",
            "_________________________________________________________________\n",
            "dense_10 (Dense)             (None, 512)               3211776   \n",
            "_________________________________________________________________\n",
            "dense_11 (Dense)             (None, 3)                 1539      \n",
            "=================================================================\n",
            "Total params: 3,454,147\n",
            "Trainable params: 3,454,147\n",
            "Non-trainable params: 0\n",
            "_________________________________________________________________\n"
          ],
          "name": "stdout"
        }
      ]
    },
    {
      "cell_type": "markdown",
      "metadata": {
        "id": "kYwPUQ_nP3XG"
      },
      "source": [
        "**Menggunakan Callback**"
      ]
    },
    {
      "cell_type": "code",
      "metadata": {
        "id": "AeK1aRBOZ5Dk"
      },
      "source": [
        "class myCallback(tf.keras.callbacks.Callback):\n",
        "  def on_epoch_end(self, epoch, logs={}):\n",
        "    if(logs.get('accuracy')>0.96):\n",
        "      print(\"\\nPELATIHAN BERHENTI, AKURASI MODEL SUDAH LEBIH DARI 96%!\")\n",
        "      self.model.stop_training = True\n",
        "\n",
        "callbacks = myCallback()"
      ],
      "execution_count": 42,
      "outputs": []
    },
    {
      "cell_type": "markdown",
      "metadata": {
        "id": "vPDY4Y1Mv-YT"
      },
      "source": [
        "**Kompilasi Model**"
      ]
    },
    {
      "cell_type": "code",
      "metadata": {
        "id": "uxcY-wvCaBrb"
      },
      "source": [
        "model.compile(loss = 'categorical_crossentropy', optimizer='rmsprop', metrics=['accuracy'])"
      ],
      "execution_count": 43,
      "outputs": []
    },
    {
      "cell_type": "markdown",
      "metadata": {
        "id": "Qb6ZBcT9yK25"
      },
      "source": [
        "**Pelatihan Model**"
      ]
    },
    {
      "cell_type": "code",
      "metadata": {
        "colab": {
          "base_uri": "https://localhost:8080/"
        },
        "id": "HGHBq_V7ZuUU",
        "outputId": "57df45b5-3f46-4e50-80e4-6118f8d6c489"
      },
      "source": [
        "history = model.fit(\n",
        "    train_generator,\n",
        "    epochs=50, \n",
        "    steps_per_epoch=32,\n",
        "    validation_data = validation_generator,\n",
        "    validation_steps=5,\n",
        "    verbose = 2,\n",
        "    callbacks=[callbacks])\n"
      ],
      "execution_count": 44,
      "outputs": [
        {
          "output_type": "stream",
          "text": [
            "Epoch 1/50\n",
            "32/32 - 11s - loss: 1.1672 - accuracy: 0.3203 - val_loss: 1.0879 - val_accuracy: 0.4500\n",
            "Epoch 2/50\n",
            "32/32 - 10s - loss: 1.0937 - accuracy: 0.3516 - val_loss: 1.0041 - val_accuracy: 0.3750\n",
            "Epoch 3/50\n",
            "32/32 - 10s - loss: 1.0213 - accuracy: 0.5586 - val_loss: 0.7859 - val_accuracy: 0.7250\n",
            "Epoch 4/50\n",
            "32/32 - 10s - loss: 0.9157 - accuracy: 0.6211 - val_loss: 0.8257 - val_accuracy: 0.6500\n",
            "Epoch 5/50\n",
            "32/32 - 10s - loss: 0.7745 - accuracy: 0.6484 - val_loss: 0.3301 - val_accuracy: 0.9500\n",
            "Epoch 6/50\n",
            "32/32 - 10s - loss: 0.7717 - accuracy: 0.6406 - val_loss: 0.3752 - val_accuracy: 0.8500\n",
            "Epoch 7/50\n",
            "32/32 - 10s - loss: 0.6383 - accuracy: 0.7461 - val_loss: 0.4461 - val_accuracy: 0.9250\n",
            "Epoch 8/50\n",
            "32/32 - 10s - loss: 0.6125 - accuracy: 0.7539 - val_loss: 0.2501 - val_accuracy: 0.9750\n",
            "Epoch 9/50\n",
            "32/32 - 10s - loss: 0.5484 - accuracy: 0.7891 - val_loss: 0.1684 - val_accuracy: 0.9750\n",
            "Epoch 10/50\n",
            "32/32 - 10s - loss: 0.3981 - accuracy: 0.8320 - val_loss: 0.4675 - val_accuracy: 0.9250\n",
            "Epoch 11/50\n",
            "32/32 - 10s - loss: 0.5140 - accuracy: 0.8047 - val_loss: 0.1442 - val_accuracy: 0.9750\n",
            "Epoch 12/50\n",
            "32/32 - 10s - loss: 0.4180 - accuracy: 0.8555 - val_loss: 0.0560 - val_accuracy: 1.0000\n",
            "Epoch 13/50\n",
            "32/32 - 10s - loss: 0.3226 - accuracy: 0.8789 - val_loss: 0.2871 - val_accuracy: 0.9250\n",
            "Epoch 14/50\n",
            "32/32 - 10s - loss: 0.4046 - accuracy: 0.8555 - val_loss: 0.4904 - val_accuracy: 0.8000\n",
            "Epoch 15/50\n",
            "32/32 - 10s - loss: 0.4516 - accuracy: 0.8398 - val_loss: 0.2173 - val_accuracy: 0.9250\n",
            "Epoch 16/50\n",
            "32/32 - 10s - loss: 0.3916 - accuracy: 0.9062 - val_loss: 0.0313 - val_accuracy: 1.0000\n",
            "Epoch 17/50\n",
            "32/32 - 10s - loss: 0.4310 - accuracy: 0.8320 - val_loss: 0.1260 - val_accuracy: 0.9750\n",
            "Epoch 18/50\n",
            "32/32 - 10s - loss: 0.3868 - accuracy: 0.8945 - val_loss: 0.5025 - val_accuracy: 0.8750\n",
            "Epoch 19/50\n",
            "32/32 - 10s - loss: 0.3386 - accuracy: 0.8867 - val_loss: 0.1600 - val_accuracy: 0.9500\n",
            "Epoch 20/50\n",
            "32/32 - 10s - loss: 0.2868 - accuracy: 0.9180 - val_loss: 0.1375 - val_accuracy: 0.9250\n",
            "Epoch 21/50\n",
            "32/32 - 10s - loss: 0.2949 - accuracy: 0.9062 - val_loss: 0.1463 - val_accuracy: 0.9500\n",
            "Epoch 22/50\n",
            "32/32 - 10s - loss: 0.3551 - accuracy: 0.8672 - val_loss: 0.0426 - val_accuracy: 1.0000\n",
            "Epoch 23/50\n",
            "32/32 - 10s - loss: 0.2638 - accuracy: 0.9102 - val_loss: 0.3018 - val_accuracy: 0.9500\n",
            "Epoch 24/50\n",
            "32/32 - 10s - loss: 0.2944 - accuracy: 0.9102 - val_loss: 0.0793 - val_accuracy: 0.9750\n",
            "Epoch 25/50\n",
            "32/32 - 10s - loss: 0.2782 - accuracy: 0.9336 - val_loss: 0.1105 - val_accuracy: 0.9750\n",
            "Epoch 26/50\n",
            "32/32 - 11s - loss: 0.2598 - accuracy: 0.9336 - val_loss: 0.0292 - val_accuracy: 1.0000\n",
            "Epoch 27/50\n",
            "32/32 - 10s - loss: 0.2549 - accuracy: 0.9141 - val_loss: 0.0122 - val_accuracy: 1.0000\n",
            "Epoch 28/50\n",
            "32/32 - 10s - loss: 0.3486 - accuracy: 0.8984 - val_loss: 0.8566 - val_accuracy: 0.6500\n",
            "Epoch 29/50\n",
            "32/32 - 10s - loss: 0.2157 - accuracy: 0.9297 - val_loss: 0.3949 - val_accuracy: 0.9500\n",
            "Epoch 30/50\n",
            "32/32 - 11s - loss: 0.1965 - accuracy: 0.9414 - val_loss: 0.5746 - val_accuracy: 0.9250\n",
            "Epoch 31/50\n",
            "32/32 - 10s - loss: 0.2284 - accuracy: 0.9141 - val_loss: 0.0216 - val_accuracy: 1.0000\n",
            "Epoch 32/50\n",
            "32/32 - 10s - loss: 0.2479 - accuracy: 0.9336 - val_loss: 0.1104 - val_accuracy: 0.9500\n",
            "Epoch 33/50\n",
            "32/32 - 10s - loss: 0.4567 - accuracy: 0.9219 - val_loss: 0.0075 - val_accuracy: 1.0000\n",
            "Epoch 34/50\n",
            "32/32 - 10s - loss: 0.2641 - accuracy: 0.9180 - val_loss: 0.2457 - val_accuracy: 0.9750\n",
            "Epoch 35/50\n",
            "32/32 - 10s - loss: 0.2456 - accuracy: 0.9336 - val_loss: 0.3375 - val_accuracy: 0.9500\n",
            "Epoch 36/50\n",
            "32/32 - 10s - loss: 0.2627 - accuracy: 0.9336 - val_loss: 0.0921 - val_accuracy: 0.9750\n",
            "Epoch 37/50\n",
            "32/32 - 10s - loss: 0.3591 - accuracy: 0.9141 - val_loss: 0.0091 - val_accuracy: 1.0000\n",
            "Epoch 38/50\n",
            "32/32 - 10s - loss: 0.2601 - accuracy: 0.9375 - val_loss: 0.0077 - val_accuracy: 1.0000\n",
            "Epoch 39/50\n",
            "32/32 - 10s - loss: 0.2180 - accuracy: 0.9375 - val_loss: 4.4599 - val_accuracy: 0.4500\n",
            "Epoch 40/50\n",
            "32/32 - 11s - loss: 0.3496 - accuracy: 0.9336 - val_loss: 0.0396 - val_accuracy: 0.9750\n",
            "Epoch 41/50\n",
            "32/32 - 10s - loss: 0.2679 - accuracy: 0.9180 - val_loss: 0.1781 - val_accuracy: 0.9000\n",
            "Epoch 42/50\n",
            "32/32 - 10s - loss: 0.1534 - accuracy: 0.9609 - val_loss: 0.0125 - val_accuracy: 1.0000\n",
            "\n",
            "PELATIHAN BERHENTI, AKURASI MODEL SUDAH LEBIH DARI 96%!\n"
          ],
          "name": "stdout"
        }
      ]
    },
    {
      "cell_type": "markdown",
      "metadata": {
        "id": "j7Zu9fluy-m9"
      },
      "source": [
        "**Plot Akurasi Training dan Validasi**"
      ]
    },
    {
      "cell_type": "code",
      "metadata": {
        "colab": {
          "base_uri": "https://localhost:8080/",
          "height": 294
        },
        "id": "QAv4iKD-c_hW",
        "outputId": "df06059d-d818-47fa-f0f6-23009a5ab4af"
      },
      "source": [
        "import matplotlib.pyplot as plt  \n",
        "\n",
        "plt.plot(history.history['accuracy'], label='Training Accuracy', color='blue')\n",
        "plt.plot(history.history['val_accuracy'], label='Validation Accuracy', color='red')\n",
        "plt.title('Accuracy Training & Validation')\n",
        "plt.ylabel('Value')\n",
        "plt.xlabel('Epoch')\n",
        "plt.legend(loc=\"lower right\")\n",
        "plt.show()"
      ],
      "execution_count": 45,
      "outputs": [
        {
          "output_type": "display_data",
          "data": {
            "image/png": "[encoded data removed]",
            "text/plain": [
              "<Figure size 432x288 with 1 Axes>"
            ]
          },
          "metadata": {
            "tags": [],
            "needs_background": "light"
          }
        }
      ]
    },
    {
      "cell_type": "markdown",
      "metadata": {
        "id": "WjqSHRLsw-K6"
      },
      "source": [
        "**Plot Loss Training dan Validasi**"
      ]
    },
    {
      "cell_type": "code",
      "metadata": {
        "colab": {
          "base_uri": "https://localhost:8080/",
          "height": 294
        },
        "id": "bQkIV_kYxHEd",
        "outputId": "e026c6b4-05a9-4418-aad4-877af2048c37"
      },
      "source": [
        "plt.plot(history.history['loss'], label='Training Loss', color='blue')\n",
        "plt.plot(history.history['val_loss'], label='Validation Loss', color = 'red')\n",
        "plt.title('Loss Training & Validation')\n",
        "plt.ylabel('Value')\n",
        "plt.xlabel('Epoch')\n",
        "plt.legend(loc=\"lower right\")\n",
        "plt.show()"
      ],
      "execution_count": 46,
      "outputs": [
        {
          "output_type": "display_data",
          "data": {
            "image/png": "[encoded data removed]",
            "text/plain": [
              "<Figure size 432x288 with 1 Axes>"
            ]
          },
          "metadata": {
            "tags": [],
            "needs_background": "light"
          }
        }
      ]
    },
    {
      "cell_type": "markdown",
      "metadata": {
        "id": "f06I9us-m6dU"
      },
      "source": [
        "**Testing Model**"
      ]
    },
    {
      "cell_type": "code",
      "metadata": {
        "colab": {
          "resources": {
            "http://localhost:8080/nbextensions/google.colab/files.js": {
              "data": "Ly8gQ29weXJpZ2h0IDIwMTcgR29vZ2xlIExMQwovLwovLyBMaWNlbnNlZCB1bmRlciB0aGUgQXBhY2hlIExpY2Vuc2UsIFZlcnNpb24gMi4wICh0aGUgIkxpY2Vuc2UiKTsKLy8geW91IG1heSBub3QgdXNlIHRoaXMgZmlsZSBleGNlcHQgaW4gY29tcGxpYW5jZSB3aXRoIHRoZSBMaWNlbnNlLgovLyBZb3UgbWF5IG9idGFpbiBhIGNvcHkgb2YgdGhlIExpY2Vuc2UgYXQKLy8KLy8gICAgICBodHRwOi8vd3d3LmFwYWNoZS5vcmcvbGljZW5zZXMvTElDRU5TRS0yLjAKLy8KLy8gVW5sZXNzIHJlcXVpcmVkIGJ5IGFwcGxpY2FibGUgbGF3IG9yIGFncmVlZCB0byBpbiB3cml0aW5nLCBzb2Z0d2FyZQovLyBkaXN0cmlidXRlZCB1bmRlciB0aGUgTGljZW5zZSBpcyBkaXN0cmlidXRlZCBvbiBhbiAiQVMgSVMiIEJBU0lTLAovLyBXSVRIT1VUIFdBUlJBTlRJRVMgT1IgQ09ORElUSU9OUyBPRiBBTlkgS0lORCwgZWl0aGVyIGV4cHJlc3Mgb3IgaW1wbGllZC4KLy8gU2VlIHRoZSBMaWNlbnNlIGZvciB0aGUgc3BlY2lmaWMgbGFuZ3VhZ2UgZ292ZXJuaW5nIHBlcm1pc3Npb25zIGFuZAovLyBsaW1pdGF0aW9ucyB1bmRlciB0aGUgTGljZW5zZS4KCi8qKgogKiBAZmlsZW92ZXJ2aWV3IEhlbHBlcnMgZm9yIGdvb2dsZS5jb2xhYiBQeXRob24gbW9kdWxlLgogKi8KKGZ1bmN0aW9uKHNjb3BlKSB7CmZ1bmN0aW9uIHNwYW4odGV4dCwgc3R5bGVBdHRyaWJ1dGVzID0ge30pIHsKICBjb25zdCBlbGVtZW50ID0gZG9jdW1lbnQuY3JlYXRlRWxlbWVudCgnc3BhbicpOwogIGVsZW1lbnQudGV4dENvbnRlbnQgPSB0ZXh0OwogIGZvciAoY29uc3Qga2V5IG9mIE9iamVjdC5rZXlzKHN0eWxlQXR0cmlidXRlcykpIHsKICAgIGVsZW1lbnQuc3R5bGVba2V5XSA9IHN0eWxlQXR0cmlidXRlc1trZXldOwogIH0KICByZXR1cm4gZWxlbWVudDsKfQoKLy8gTWF4IG51bWJlciBvZiBieXRlcyB3aGljaCB3aWxsIGJlIHVwbG9hZGVkIGF0IGEgdGltZS4KY29uc3QgTUFYX1BBWUxPQURfU0laRSA9IDEwMCAqIDEwMjQ7CgpmdW5jdGlvbiBfdXBsb2FkRmlsZXMoaW5wdXRJZCwgb3V0cHV0SWQpIHsKICBjb25zdCBzdGVwcyA9IHVwbG9hZEZpbGVzU3RlcChpbnB1dElkLCBvdXRwdXRJZCk7CiAgY29uc3Qgb3V0cHV0RWxlbWVudCA9IGRvY3VtZW50LmdldEVsZW1lbnRCeUlkKG91dHB1dElkKTsKICAvLyBDYWNoZSBzdGVwcyBvbiB0aGUgb3V0cHV0RWxlbWVudCB0byBtYWtlIGl0IGF2YWlsYWJsZSBmb3IgdGhlIG5leHQgY2FsbAogIC8vIHRvIHVwbG9hZEZpbGVzQ29udGludWUgZnJvbSBQeXRob24uCiAgb3V0cHV0RWxlbWVudC5zdGVwcyA9IHN0ZXBzOwoKICByZXR1cm4gX3VwbG9hZEZpbGVzQ29udGludWUob3V0cHV0SWQpOwp9CgovLyBUaGlzIGlzIHJvdWdobHkgYW4gYXN5bmMgZ2VuZXJhdG9yIChub3Qgc3VwcG9ydGVkIGluIHRoZSBicm93c2VyIHlldCksCi8vIHdoZXJlIHRoZXJlIGFyZSBtdWx0aXBsZSBhc3luY2hyb25vdXMgc3RlcHMgYW5kIHRoZSBQeXRob24gc2lkZSBpcyBnb2luZwovLyB0byBwb2xsIGZvciBjb21wbGV0aW9uIG9mIGVhY2ggc3RlcC4KLy8gVGhpcyB1c2VzIGEgUHJvbWlzZSB0byBibG9jayB0aGUgcHl0aG9uIHNpZGUgb24gY29tcGxldGlvbiBvZiBlYWNoIHN0ZXAsCi8vIHRoZW4gcGFzc2VzIHRoZSByZXN1bHQgb2YgdGhlIHByZXZpb3VzIHN0ZXAgYXMgdGhlIGlucHV0IHRvIHRoZSBuZXh0IHN0ZXAuCmZ1bmN0aW9uIF91cGxvYWRGaWxlc0NvbnRpbnVlKG91dHB1dElkKSB7CiAgY29uc3Qgb3V0cHV0RWxlbWVudCA9IGRvY3VtZW50LmdldEVsZW1lbnRCeUlkKG91dHB1dElkKTsKICBjb25zdCBzdGVwcyA9IG91dHB1dEVsZW1lbnQuc3RlcHM7CgogIGNvbnN0IG5leHQgPSBzdGVwcy5uZXh0KG91dHB1dEVsZW1lbnQubGFzdFByb21pc2VWYWx1ZSk7CiAgcmV0dXJuIFByb21pc2UucmVzb2x2ZShuZXh0LnZhbHVlLnByb21pc2UpLnRoZW4oKHZhbHVlKSA9PiB7CiAgICAvLyBDYWNoZSB0aGUgbGFzdCBwcm9taXNlIHZhbHVlIHRvIG1ha2UgaXQgYXZhaWxhYmxlIHRvIHRoZSBuZXh0CiAgICAvLyBzdGVwIG9mIHRoZSBnZW5lcmF0b3IuCiAgICBvdXRwdXRFbGVtZW50Lmxhc3RQcm9taXNlVmFsdWUgPSB2YWx1ZTsKICAgIHJldHVybiBuZXh0LnZhbHVlLnJlc3BvbnNlOwogIH0pOwp9CgovKioKICogR2VuZXJhdG9yIGZ1bmN0aW9uIHdoaWNoIGlzIGNhbGxlZCBiZXR3ZWVuIGVhY2ggYXN5bmMgc3RlcCBvZiB0aGUgdXBsb2FkCiAqIHByb2Nlc3MuCiAqIEBwYXJhbSB7c3RyaW5nfSBpbnB1dElkIEVsZW1lbnQgSUQgb2YgdGhlIGlucHV0IGZpbGUgcGlja2VyIGVsZW1lbnQuCiAqIEBwYXJhbSB7c3RyaW5nfSBvdXRwdXRJZCBFbGVtZW50IElEIG9mIHRoZSBvdXRwdXQgZGlzcGxheS4KICogQHJldHVybiB7IUl0ZXJhYmxlPCFPYmplY3Q+fSBJdGVyYWJsZSBvZiBuZXh0IHN0ZXBzLgogKi8KZnVuY3Rpb24qIHVwbG9hZEZpbGVzU3RlcChpbnB1dElkLCBvdXRwdXRJZCkgewogIGNvbnN0IGlucHV0RWxlbWVudCA9IGRvY3VtZW50LmdldEVsZW1lbnRCeUlkKGlucHV0SWQpOwogIGlucHV0RWxlbWVudC5kaXNhYmxlZCA9IGZhbHNlOwoKICBjb25zdCBvdXRwdXRFbGVtZW50ID0gZG9jdW1lbnQuZ2V0RWxlbWVudEJ5SWQob3V0cHV0SWQpOwogIG91dHB1dEVsZW1lbnQuaW5uZXJIVE1MID0gJyc7CgogIGNvbnN0IHBpY2tlZFByb21pc2UgPSBuZXcgUHJvbWlzZSgocmVzb2x2ZSkgPT4gewogICAgaW5wdXRFbGVtZW50LmFkZEV2ZW50TGlzdGVuZXIoJ2NoYW5nZScsIChlKSA9PiB7CiAgICAgIHJlc29sdmUoZS50YXJnZXQuZmlsZXMpOwogICAgfSk7CiAgfSk7CgogIGNvbnN0IGNhbmNlbCA9IGRvY3VtZW50LmNyZWF0ZUVsZW1lbnQoJ2J1dHRvbicpOwogIGlucHV0RWxlbWVudC5wYXJlbnRFbGVtZW50LmFwcGVuZENoaWxkKGNhbmNlbCk7CiAgY2FuY2VsLnRleHRDb250ZW50ID0gJ0NhbmNlbCB1cGxvYWQnOwogIGNvbnN0IGNhbmNlbFByb21pc2UgPSBuZXcgUHJvbWlzZSgocmVzb2x2ZSkgPT4gewogICAgY2FuY2VsLm9uY2xpY2sgPSAoKSA9PiB7CiAgICAgIHJlc29sdmUobnVsbCk7CiAgICB9OwogIH0pOwoKICAvLyBXYWl0IGZvciB0aGUgdXNlciB0byBwaWNrIHRoZSBmaWxlcy4KICBjb25zdCBmaWxlcyA9IHlpZWxkIHsKICAgIHByb21pc2U6IFByb21pc2UucmFjZShbcGlja2VkUHJvbWlzZSwgY2FuY2VsUHJvbWlzZV0pLAogICAgcmVzcG9uc2U6IHsKICAgICAgYWN0aW9uOiAnc3RhcnRpbmcnLAogICAgfQogIH07CgogIGNhbmNlbC5yZW1vdmUoKTsKCiAgLy8gRGlzYWJsZSB0aGUgaW5wdXQgZWxlbWVudCBzaW5jZSBmdXJ0aGVyIHBpY2tzIGFyZSBub3QgYWxsb3dlZC4KICBpbnB1dEVsZW1lbnQuZGlzYWJsZWQgPSB0cnVlOwoKICBpZiAoIWZpbGVzKSB7CiAgICByZXR1cm4gewogICAgICByZXNwb25zZTogewogICAgICAgIGFjdGlvbjogJ2NvbXBsZXRlJywKICAgICAgfQogICAgfTsKICB9CgogIGZvciAoY29uc3QgZmlsZSBvZiBmaWxlcykgewogICAgY29uc3QgbGkgPSBkb2N1bWVudC5jcmVhdGVFbGVtZW50KCdsaScpOwogICAgbGkuYXBwZW5kKHNwYW4oZmlsZS5uYW1lLCB7Zm9udFdlaWdodDogJ2JvbGQnfSkpOwogICAgbGkuYXBwZW5kKHNwYW4oCiAgICAgICAgYCgke2ZpbGUudHlwZSB8fCAnbi9hJ30pIC0gJHtmaWxlLnNpemV9IGJ5dGVzLCBgICsKICAgICAgICBgbGFzdCBtb2RpZmllZDogJHsKICAgICAgICAgICAgZmlsZS5sYXN0TW9kaWZpZWREYXRlID8gZmlsZS5sYXN0TW9kaWZpZWREYXRlLnRvTG9jYWxlRGF0ZVN0cmluZygpIDoKICAgICAgICAgICAgICAgICAgICAgICAgICAgICAgICAgICAgJ24vYSd9IC0gYCkpOwogICAgY29uc3QgcGVyY2VudCA9IHNwYW4oJzAlIGRvbmUnKTsKICAgIGxpLmFwcGVuZENoaWxkKHBlcmNlbnQpOwoKICAgIG91dHB1dEVsZW1lbnQuYXBwZW5kQ2hpbGQobGkpOwoKICAgIGNvbnN0IGZpbGVEYXRhUHJvbWlzZSA9IG5ldyBQcm9taXNlKChyZXNvbHZlKSA9PiB7CiAgICAgIGNvbnN0IHJlYWRlciA9IG5ldyBGaWxlUmVhZGVyKCk7CiAgICAgIHJlYWRlci5vbmxvYWQgPSAoZSkgPT4gewogICAgICAgIHJlc29sdmUoZS50YXJnZXQucmVzdWx0KTsKICAgICAgfTsKICAgICAgcmVhZGVyLnJlYWRBc0FycmF5QnVmZmVyKGZpbGUpOwogICAgfSk7CiAgICAvLyBXYWl0IGZvciB0aGUgZGF0YSB0byBiZSByZWFkeS4KICAgIGxldCBmaWxlRGF0YSA9IHlpZWxkIHsKICAgICAgcHJvbWlzZTogZmlsZURhdGFQcm9taXNlLAogICAgICByZXNwb25zZTogewogICAgICAgIGFjdGlvbjogJ2NvbnRpbnVlJywKICAgICAgfQogICAgfTsKCiAgICAvLyBVc2UgYSBjaHVua2VkIHNlbmRpbmcgdG8gYXZvaWQgbWVzc2FnZSBzaXplIGxpbWl0cy4gU2VlIGIvNjIxMTU2NjAuCiAgICBsZXQgcG9zaXRpb24gPSAwOwogICAgZG8gewogICAgICBjb25zdCBsZW5ndGggPSBNYXRoLm1pbihmaWxlRGF0YS5ieXRlTGVuZ3RoIC0gcG9zaXRpb24sIE1BWF9QQVlMT0FEX1NJWkUpOwogICAgICBjb25zdCBjaHVuayA9IG5ldyBVaW50OEFycmF5KGZpbGVEYXRhLCBwb3NpdGlvbiwgbGVuZ3RoKTsKICAgICAgcG9zaXRpb24gKz0gbGVuZ3RoOwoKICAgICAgY29uc3QgYmFzZTY0ID0gYnRvYShTdHJpbmcuZnJvbUNoYXJDb2RlLmFwcGx5KG51bGwsIGNodW5rKSk7CiAgICAgIHlpZWxkIHsKICAgICAgICByZXNwb25zZTogewogICAgICAgICAgYWN0aW9uOiAnYXBwZW5kJywKICAgICAgICAgIGZpbGU6IGZpbGUubmFtZSwKICAgICAgICAgIGRhdGE6IGJhc2U2NCwKICAgICAgICB9LAogICAgICB9OwoKICAgICAgbGV0IHBlcmNlbnREb25lID0gZmlsZURhdGEuYnl0ZUxlbmd0aCA9PT0gMCA/CiAgICAgICAgICAxMDAgOgogICAgICAgICAgTWF0aC5yb3VuZCgocG9zaXRpb24gLyBmaWxlRGF0YS5ieXRlTGVuZ3RoKSAqIDEwMCk7CiAgICAgIHBlcmNlbnQudGV4dENvbnRlbnQgPSBgJHtwZXJjZW50RG9uZX0lIGRvbmVgOwoKICAgIH0gd2hpbGUgKHBvc2l0aW9uIDwgZmlsZURhdGEuYnl0ZUxlbmd0aCk7CiAgfQoKICAvLyBBbGwgZG9uZS4KICB5aWVsZCB7CiAgICByZXNwb25zZTogewogICAgICBhY3Rpb246ICdjb21wbGV0ZScsCiAgICB9CiAgfTsKfQoKc2NvcGUuZ29vZ2xlID0gc2NvcGUuZ29vZ2xlIHx8IHt9OwpzY29wZS5nb29nbGUuY29sYWIgPSBzY29wZS5nb29nbGUuY29sYWIgfHwge307CnNjb3BlLmdvb2dsZS5jb2xhYi5fZmlsZXMgPSB7CiAgX3VwbG9hZEZpbGVzLAogIF91cGxvYWRGaWxlc0NvbnRpbnVlLAp9Owp9KShzZWxmKTsK",
              "ok": true,
              "headers": [
                [
                  "content-type",
                  "application/javascript"
                ]
              ],
              "status": 200,
              "status_text": ""
            }
          },
          "base_uri": "https://localhost:8080/",
          "height": 360
        },
        "id": "YHHRkrtFm6z6",
        "outputId": "1bab8369-df75-497f-e1a3-aab434eeba3b"
      },
      "source": [
        "import numpy as np                                                                \n",
        "from google.colab import files                                                    \n",
        "uploaded = files.upload()                                                         \n",
        "\n",
        "for fn in uploaded.keys():\n",
        "\n",
        "  path = fn\n",
        "  img = image.load_img(path, target_size=(150, 150))                              \n",
        "  imgplot = plt.imshow(img)                                                       \n",
        "  x = image.img_to_array(img)\n",
        "  x = np.expand_dims(x, axis=0)\n",
        "\n",
        "  images = np.vstack([x])\n",
        "  classes = model.predict(images, batch_size=10)\n",
        "  print(fn)\n",
        "  if classes[0,0]==1:\n",
        "    print('Gambar tangan ini menunjukkan bentuk KERTAS')                               \n",
        "  elif classes[0,1]==1:\n",
        "    print('Gambar tangan ini menunjukkan bentuk BATU')                                   \n",
        "  elif classes[0,2]==1:\n",
        "    print('Gambar tangan ini menunjukkan bentuk GUNTING')                                \n",
        "  else:\n",
        "    print('Tidak Diketahui')"
      ],
      "execution_count": 47,
      "outputs": [
        {
          "output_type": "display_data",
          "data": {
            "text/html": [
              "\n",
              "     <input type=\"file\" id=\"files-9e7738ac-b893-458c-a180-cff93e0c969e\" name=\"files[]\" multiple disabled\n",
              "        style=\"border:none\" />\n",
              "     <output id=\"result-9e7738ac-b893-458c-a180-cff93e0c969e\">\n",
              "      Upload widget is only available when the cell has been executed in the\n",
              "      current browser session. Please rerun this cell to enable.\n",
              "      </output>\n",
              "      <script src=\"/nbextensions/google.colab/files.js\"></script> "
            ],
            "text/plain": [
              "<IPython.core.display.HTML object>"
            ]
          },
          "metadata": {
            "tags": []
          }
        },
        {
          "output_type": "stream",
          "text": [
            "Saving 65PVbRzrpzfdu8nJ.png to 65PVbRzrpzfdu8nJ.png\n",
            "65PVbRzrpzfdu8nJ.png\n",
            "Gambar tangan ini menunjukkan bentuk GUNTING\n"
          ],
          "name": "stdout"
        },
        {
          "output_type": "display_data",
          "data": {
            "image/png": "[encoded data removed]",
            "text/plain": [
              "<Figure size 432x288 with 1 Axes>"
            ]
          },
          "metadata": {
            "tags": [],
            "needs_background": "light"
          }
        }
      ]
    },
    {
      "cell_type": "markdown",
      "metadata": {
        "id": "Hq70YflZs6rA"
      },
      "source": [
        "Terima kasih kepada dicoding dan Indosat Ooredoo atas Program Beasiswa IDCamp 2021 sehingga saya bisa menyelesaikan proyek akhir tersebut.\n",
        "\n",
        "Semoga kedepannya kerjasama diantara keduanya tetap terjalin untuk membuat jutaan machine learning engineer handal di Indonesia.\n",
        "\n",
        "Irvandy Ilza Novendra (rendrairvandy@gmail.com)\n",
        "\n",
        "https://www.dicoding.com/users/irvandyilzan\n",
        "\n"
      ]
    }
  ]
}